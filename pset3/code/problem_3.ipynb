{
 "cells": [
  {
   "cell_type": "code",
   "execution_count": 36,
   "id": "b1fa480d-a204-42ce-804e-5fab3b951db0",
   "metadata": {},
   "outputs": [],
   "source": [
    "import numpy as np\n",
    "from scipy.special import gamma\n",
    "import matplotlib.pyplot as plt\n",
    "import astropy.units as u\n",
    "import astropy.constants as const\n",
    "from scipy.interpolate import interp1d"
   ]
  },
  {
   "cell_type": "code",
   "execution_count": 2,
   "id": "0660d5c2-cf54-40e3-9701-eac0afde1fd4",
   "metadata": {},
   "outputs": [],
   "source": [
    "%config InlineBackend.figure_format = \"retina\"\n",
    "\n",
    "plt.rc('font', family='serif')\n",
    "plt.rcParams['text.usetex'] = False\n",
    "fs = 18\n",
    "\n",
    "# update various fontsizes to match\n",
    "params = {'figure.figsize': (12, 8),\n",
    "          'legend.fontsize': fs,\n",
    "          'axes.labelsize': fs,\n",
    "          'xtick.labelsize': 0.9 * fs,\n",
    "          'ytick.labelsize': 0.9 * fs,\n",
    "          'axes.linewidth': 1.1,\n",
    "          'xtick.major.size': 7,\n",
    "          'xtick.minor.size': 4,\n",
    "          'ytick.major.size': 7,\n",
    "          'ytick.minor.size': 4}\n",
    "plt.rcParams.update(params)"
   ]
  },
  {
   "cell_type": "markdown",
   "id": "f6e99aec-6618-4da2-b4dd-fe00766dee57",
   "metadata": {},
   "source": [
    "# Part a"
   ]
  },
  {
   "cell_type": "code",
   "execution_count": 3,
   "id": "020076ec-04b3-459e-bad7-326e54e62596",
   "metadata": {
    "tags": []
   },
   "outputs": [],
   "source": [
    "def fermi_dirac(j, z):\n",
    "    assert j in [0.5, 1.5]\n",
    "    \n",
    "    if j == 0.5:\n",
    "        a = 9.6\n",
    "        b = 2.13\n",
    "        c = 12 / 5\n",
    "    else:\n",
    "        a = 14.9\n",
    "        b = 2.64\n",
    "        c = 9 / 4\n",
    "        \n",
    "    first_term = (j + 1) * 2**(j + 1) / (b + z + (np.abs(z - b)**c + a)**(1/c))**(j + 1)\n",
    "    second_term = np.exp(-z) / gamma(j + 1)\n",
    "    \n",
    "    return (first_term + second_term)**(-1)"
   ]
  },
  {
   "cell_type": "code",
   "execution_count": 39,
   "id": "9ced325a-0e15-4c49-af6b-da62ded5eef3",
   "metadata": {},
   "outputs": [
    {
     "name": "stdout",
     "output_type": "stream",
     "text": [
      "2.079537345861597\n",
      "1.650064774393406\n"
     ]
    }
   ],
   "source": [
    "rho_c = 325 * u.g / u.cm**3\n",
    "T_c = 6e6 * u.K\n",
    "s = 0.5\n",
    "\n",
    "n = (1.2 * rho_c / (1.4 * const.m_p)).to(u.cm**(-3))\n",
    "lam = (const.h / (2 * np.pi * const.m_e * const.k_B * T_c)**(1/2)).to(u.cm)\n",
    "\n",
    "fd = n * lam**3 * np.pi**(1/2) / (2 * (2 * s + 1))\n",
    "\n",
    "print(fd)\n",
    "\n",
    "z_range = np.linspace(-10, 50, 1000)\n",
    "inverse_fd_func = interp1d(fermi_dirac(0.5, z_range), z_range)\n",
    "\n",
    "fugacity = inverse_fd_func(fd)\n",
    "print(fugacity)"
   ]
  },
  {
   "cell_type": "markdown",
   "id": "ff98be37-8d7e-46d6-88ec-c46af1163cfd",
   "metadata": {},
   "source": [
    "# Part b"
   ]
  },
  {
   "cell_type": "code",
   "execution_count": 42,
   "id": "0ccfc452-3971-40a7-ac54-ffdacf1fc695",
   "metadata": {},
   "outputs": [],
   "source": [
    "pressure = 4 * (2 * s + 1) / (3 * np.pi**(1/2) * lam**3) * fermi_dirac(1.5, fugacity) * const.k_B * T_c"
   ]
  },
  {
   "cell_type": "code",
   "execution_count": 50,
   "id": "e9765272-c741-4e6f-a2be-a52b7012b47b",
   "metadata": {},
   "outputs": [
    {
     "data": {
      "text/latex": [
       "$1.9212456 \\times 10^{16} \\; \\mathrm{Pa}$"
      ],
      "text/plain": [
       "<Quantity 1.92124563e+16 Pa>"
      ]
     },
     "execution_count": 50,
     "metadata": {},
     "output_type": "execute_result"
    }
   ],
   "source": [
    "pressure.to(u.Pa)"
   ]
  },
  {
   "cell_type": "code",
   "execution_count": 48,
   "id": "f7e2f863-3c9b-4e46-a140-38e703b844ab",
   "metadata": {},
   "outputs": [
    {
     "data": {
      "text/latex": [
       "$1.9212456 \\times 10^{17} \\; \\mathrm{\\frac{g}{cm\\,s^{2}}}$"
      ],
      "text/plain": [
       "<Quantity 1.92124563e+17 g / (cm s2)>"
      ]
     },
     "execution_count": 48,
     "metadata": {},
     "output_type": "execute_result"
    }
   ],
   "source": [
    "pressure.to(u.g * u.cm**(-1) * u.s**(-2))"
   ]
  },
  {
   "cell_type": "markdown",
   "id": "2cd8c2c6-70cc-4d54-9d24-f81c50af9a16",
   "metadata": {},
   "source": [
    "# Part d"
   ]
  },
  {
   "cell_type": "code",
   "execution_count": 51,
   "id": "f9b9d111-9959-48cc-a9a8-9cd016f551d4",
   "metadata": {},
   "outputs": [],
   "source": [
    "ideal_pressure = n * const.k_B * T_c"
   ]
  },
  {
   "cell_type": "code",
   "execution_count": 53,
   "id": "997283ab-1730-4de6-bbf4-b0e1e231b5c1",
   "metadata": {},
   "outputs": [
    {
     "data": {
      "text/latex": [
       "$1.379664 \\times 10^{16} \\; \\mathrm{Pa}$"
      ],
      "text/plain": [
       "<Quantity 1.37966396e+16 Pa>"
      ]
     },
     "execution_count": 53,
     "metadata": {},
     "output_type": "execute_result"
    }
   ],
   "source": [
    "ideal_pressure.to(u.Pa)"
   ]
  },
  {
   "cell_type": "markdown",
   "id": "cc910553-c8b3-4f7e-8f32-2c2b69d71768",
   "metadata": {},
   "source": [
    "# Part e"
   ]
  },
  {
   "cell_type": "code",
   "execution_count": 84,
   "id": "7c9a2f31-cb2f-4dc5-b03c-a54f74899ab9",
   "metadata": {},
   "outputs": [],
   "source": [
    "mu_e = 1.1\n",
    "first_term = 0.13 / (mu_e * fermi_dirac(0.5, fugacity))**(2/3)\n",
    "second_term = rho_c / (8.44 * u.g / u.cm**3)"
   ]
  },
  {
   "cell_type": "code",
   "execution_count": 85,
   "id": "d721e719-118b-469f-9743-7d87759bfb6d",
   "metadata": {},
   "outputs": [],
   "source": [
    "radius = (first_term * second_term**(-1/3))**(1/2) * u.R_sun\n",
    "mass = rho_c * radius.value**3 / (8.44 * u.g / u.cm**3) * u.Msun"
   ]
  },
  {
   "cell_type": "code",
   "execution_count": 86,
   "id": "bea15ce0-3168-4380-b2da-f2f928ff9baf",
   "metadata": {},
   "outputs": [
    {
     "data": {
      "text/latex": [
       "$0.14891199 \\; \\mathrm{R_{\\odot}}$"
      ],
      "text/plain": [
       "<Quantity 0.14891199 solRad>"
      ]
     },
     "execution_count": 86,
     "metadata": {},
     "output_type": "execute_result"
    }
   ],
   "source": [
    "radius"
   ]
  },
  {
   "cell_type": "code",
   "execution_count": 87,
   "id": "1c7fb33d-aa4a-4d48-bb70-db15dd46fa7b",
   "metadata": {},
   "outputs": [
    {
     "data": {
      "text/latex": [
       "$0.12715396 \\; \\mathrm{M_{\\odot}}$"
      ],
      "text/plain": [
       "<Quantity 0.12715396 solMass>"
      ]
     },
     "execution_count": 87,
     "metadata": {},
     "output_type": "execute_result"
    }
   ],
   "source": [
    "mass"
   ]
  }
 ],
 "metadata": {
  "kernelspec": {
   "display_name": "Python 3 (ipykernel)",
   "language": "python",
   "name": "python3"
  },
  "language_info": {
   "codemirror_mode": {
    "name": "ipython",
    "version": 3
   },
   "file_extension": ".py",
   "mimetype": "text/x-python",
   "name": "python",
   "nbconvert_exporter": "python",
   "pygments_lexer": "ipython3",
   "version": "3.9.7"
  }
 },
 "nbformat": 4,
 "nbformat_minor": 5
}
