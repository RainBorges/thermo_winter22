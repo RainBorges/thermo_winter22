{
 "cells": [
  {
   "cell_type": "code",
   "execution_count": 1,
   "id": "fc7b460a-d525-4ad6-ad92-b14f292b4835",
   "metadata": {},
   "outputs": [],
   "source": [
    "import astropy.units as u\n",
    "import astropy.constants as const\n",
    "import numpy as np"
   ]
  },
  {
   "cell_type": "markdown",
   "id": "3ee9e01d-07bd-4d53-a43d-1f93bd8b3ea8",
   "metadata": {},
   "source": [
    "# part a"
   ]
  },
  {
   "cell_type": "code",
   "execution_count": 9,
   "id": "a7ed556a-3a28-4dee-9a66-2249ec38ca27",
   "metadata": {},
   "outputs": [],
   "source": [
    "planet_density = ((3 * const.M_jup) / (4/3 * np.pi * const.R_earth**3)).to(u.g / u.cm**3)"
   ]
  },
  {
   "cell_type": "code",
   "execution_count": 22,
   "id": "acdebbe1-c5b9-4382-a7f1-1dae47d922ae",
   "metadata": {},
   "outputs": [
    {
     "data": {
      "text/latex": [
       "$5239.4221 \\; \\mathrm{\\frac{g}{cm^{3}}}$"
      ],
      "text/plain": [
       "<Quantity 5239.4221312 g / cm3>"
      ]
     },
     "execution_count": 22,
     "metadata": {},
     "output_type": "execute_result"
    }
   ],
   "source": [
    "planet_density"
   ]
  },
  {
   "cell_type": "code",
   "execution_count": 23,
   "id": "a434db29-afbf-448b-b75f-b03e92f6a8bb",
   "metadata": {},
   "outputs": [],
   "source": [
    "iron_density = 7.9 * u.g / u.cm**3"
   ]
  },
  {
   "cell_type": "code",
   "execution_count": 24,
   "id": "94c1acad-49c7-4bad-8435-3c2cb83e53a4",
   "metadata": {},
   "outputs": [
    {
     "data": {
      "text/plain": [
       "True"
      ]
     },
     "execution_count": 24,
     "metadata": {},
     "output_type": "execute_result"
    }
   ],
   "source": [
    "planet_density > iron_density"
   ]
  },
  {
   "cell_type": "markdown",
   "id": "6da4269c-22d0-4cab-a8ed-2e579a9edb30",
   "metadata": {},
   "source": [
    "# part b"
   ]
  },
  {
   "cell_type": "markdown",
   "id": "af42e8dc-6ca8-40f4-a770-e7c6cc687721",
   "metadata": {},
   "source": [
    "# part c"
   ]
  },
  {
   "cell_type": "code",
   "execution_count": null,
   "id": "ca736a41-a2a7-40f3-a1b8-f847599e4eb4",
   "metadata": {},
   "outputs": [
    {
     "data": {
      "text/latex": [
       "$29.107746 \\; \\mathrm{M_{\\odot}}$"
      ],
      "text/plain": [
       "<Quantity 29.10774606 solMass>"
      ]
     },
     "execution_count": 28,
     "metadata": {},
     "output_type": "execute_result"
    }
   ],
   "source": [
    "((const.h * const.c / const.G)**(3/2) * const.m_n**(-2)).to(u.M_sun)"
   ]
  }
 ],
 "metadata": {
  "kernelspec": {
   "display_name": "Python 3 (ipykernel)",
   "language": "python",
   "name": "python3"
  },
  "language_info": {
   "codemirror_mode": {
    "name": "ipython",
    "version": 3
   },
   "file_extension": ".py",
   "mimetype": "text/x-python",
   "name": "python",
   "nbconvert_exporter": "python",
   "pygments_lexer": "ipython3",
   "version": "3.9.7"
  }
 },
 "nbformat": 4,
 "nbformat_minor": 5
}
