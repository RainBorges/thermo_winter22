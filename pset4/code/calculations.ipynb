{
 "cells": [
  {
   "cell_type": "code",
   "execution_count": 29,
   "id": "fc7b460a-d525-4ad6-ad92-b14f292b4835",
   "metadata": {},
   "outputs": [],
   "source": [
    "import numpy as np\n",
    "import astropy.units as u\n",
    "import astropy.constants as const\n",
    "from astropy.visualization import quantity_support\n",
    "quantity_support()\n",
    "\n",
    "import matplotlib.pyplot as plt"
   ]
  },
  {
   "cell_type": "code",
   "execution_count": 30,
   "id": "a10ae012-7d68-40e4-91a5-9432172eb6c5",
   "metadata": {},
   "outputs": [],
   "source": [
    "%config InlineBackend.figure_format = \"retina\"\n",
    "\n",
    "plt.rc('font', family='serif')\n",
    "plt.rcParams['text.usetex'] = False\n",
    "fs = 18\n",
    "\n",
    "# update various fontsizes to match\n",
    "params = {'figure.figsize': (12, 8),\n",
    "          'legend.fontsize': fs,\n",
    "          'axes.labelsize': fs,\n",
    "          'xtick.labelsize': 0.9 * fs,\n",
    "          'ytick.labelsize': 0.9 * fs,\n",
    "          'axes.linewidth': 1.1,\n",
    "          'xtick.major.size': 7,\n",
    "          'xtick.minor.size': 4,\n",
    "          'ytick.major.size': 7,\n",
    "          'ytick.minor.size': 4}\n",
    "plt.rcParams.update(params)"
   ]
  },
  {
   "cell_type": "markdown",
   "id": "3ee9e01d-07bd-4d53-a43d-1f93bd8b3ea8",
   "metadata": {
    "tags": []
   },
   "source": [
    "# Question 1"
   ]
  },
  {
   "cell_type": "markdown",
   "id": "5888e842-4342-4ab9-9a72-462c26979da8",
   "metadata": {},
   "source": [
    "## Part a"
   ]
  },
  {
   "cell_type": "code",
   "execution_count": 9,
   "id": "a7ed556a-3a28-4dee-9a66-2249ec38ca27",
   "metadata": {},
   "outputs": [],
   "source": [
    "planet_density = ((3 * const.M_jup) / (4/3 * np.pi * const.R_earth**3)).to(u.g / u.cm**3)"
   ]
  },
  {
   "cell_type": "code",
   "execution_count": 22,
   "id": "acdebbe1-c5b9-4382-a7f1-1dae47d922ae",
   "metadata": {},
   "outputs": [
    {
     "data": {
      "text/latex": [
       "$5239.4221 \\; \\mathrm{\\frac{g}{cm^{3}}}$"
      ],
      "text/plain": [
       "<Quantity 5239.4221312 g / cm3>"
      ]
     },
     "execution_count": 22,
     "metadata": {},
     "output_type": "execute_result"
    }
   ],
   "source": [
    "planet_density"
   ]
  },
  {
   "cell_type": "code",
   "execution_count": 23,
   "id": "a434db29-afbf-448b-b75f-b03e92f6a8bb",
   "metadata": {},
   "outputs": [],
   "source": [
    "iron_density = 7.9 * u.g / u.cm**3"
   ]
  },
  {
   "cell_type": "code",
   "execution_count": 24,
   "id": "94c1acad-49c7-4bad-8435-3c2cb83e53a4",
   "metadata": {},
   "outputs": [
    {
     "data": {
      "text/plain": [
       "True"
      ]
     },
     "execution_count": 24,
     "metadata": {},
     "output_type": "execute_result"
    }
   ],
   "source": [
    "planet_density > iron_density"
   ]
  },
  {
   "cell_type": "markdown",
   "id": "d610587e-2fe2-456b-a7df-8ab25c95eb27",
   "metadata": {},
   "source": [
    "# Question 2"
   ]
  },
  {
   "cell_type": "markdown",
   "id": "546ae54d-e690-4016-931d-1612446d1d3e",
   "metadata": {},
   "source": [
    "## Part a/b"
   ]
  },
  {
   "cell_type": "code",
   "execution_count": 31,
   "id": "ce3bd661-b30e-4069-a366-b8f07e75af3a",
   "metadata": {},
   "outputs": [],
   "source": [
    "def eos(P, rho_0=1.46 * u.g / u.cm**3, K=3.11e-6 * u.g / u.cm**3, n=0.513):\n",
    "    return rho_0 + K * u.Pa**(-n) * P**n"
   ]
  },
  {
   "cell_type": "code",
   "execution_count": null,
   "id": "dd2afb39-c731-44cf-b783-7655e97c121c",
   "metadata": {},
   "outputs": [],
   "source": [
    "fig, ax = plt.subplots()\n",
    "\n",
    "pressure_range = np.logspace(-0.5, 14, 1000) * u.Pa\n",
    "\n",
    "density_approx_eos = eos(pressure_range)\n",
    "ax.semilogx(pressure_range, density_approx_eos, lw=3, label=\"Approximate EOS\")\n",
    "ax.semilogx(pressure_range, eos(pressure_range, rho_0=0 * u.g / u.cm**3), lw=4,\n",
    "            linestyle=\"--\", label=r\"Polytrope with $\\Gamma=\\frac{1}{n}$\")\n",
    "\n",
    "transition_pressure = pressure_range[density_approx_eos > density_approx_eos[0] * 2][0]\n",
    "ax.axvline(transition_pressure, color=\"grey\", linestyle=\"dotted\", label=\"Transition to high-pressure regime\")\n",
    "\n",
    "ax.legend()\n",
    "\n",
    "ax.set_xlabel(r\"Pressure, $P \\, [\\rm Pa]$\")\n",
    "ax.set_ylabel(r\"Density, $\\rho \\, [\\rm g cm^{-3}]$\")\n",
    "\n",
    "plt.savefig(\"../figures/2a.pdf\", format=\"pdf\", bbox_inches=\"tight\")\n",
    "\n",
    "plt.show()"
   ]
  },
  {
   "cell_type": "markdown",
   "id": "918cdd18-6f0a-42e5-9923-e2518d21d001",
   "metadata": {},
   "source": [
    "## Part d"
   ]
  },
  {
   "cell_type": "code",
   "execution_count": 54,
   "id": "29822ba4-0282-4e8e-a5d0-2280aa2ae837",
   "metadata": {},
   "outputs": [
    {
     "data": {
      "text/latex": [
       "$23.9 \\; \\mathrm{M_{\\oplus}}$"
      ],
      "text/plain": [
       "<Quantity 23.9 earthMass>"
      ]
     },
     "execution_count": 54,
     "metadata": {},
     "output_type": "execute_result"
    }
   ],
   "source": [
    "rho0 = 1.46 * u.g / u.cm**3\n",
    "r = np.sqrt(3/2 * transition_pressure / (const.G * np.pi * rho0**2))\n",
    "max_mass = 4 * np.pi * rho0 * r**3\n",
    "max_mass.to(u.M_earth).round(1)"
   ]
  },
  {
   "cell_type": "markdown",
   "id": "e559131e-ac89-4cee-bdb0-5ba542d8dfd1",
   "metadata": {},
   "source": [
    "# Question 3"
   ]
  },
  {
   "cell_type": "markdown",
   "id": "cc0411a1-8f3c-44b3-963a-f9cbd93c3e7b",
   "metadata": {},
   "source": [
    "## part c"
   ]
  },
  {
   "cell_type": "code",
   "execution_count": 55,
   "id": "af0965d4-eef6-407f-9e1f-4a4a49efd356",
   "metadata": {},
   "outputs": [
    {
     "data": {
      "text/latex": [
       "$29.188047 \\; \\mathrm{M_{\\odot}}$"
      ],
      "text/plain": [
       "<Quantity 29.18804672 solMass>"
      ]
     },
     "execution_count": 55,
     "metadata": {},
     "output_type": "execute_result"
    }
   ],
   "source": [
    "M_rad = const.m_p * (const.G * const.m_p**2 / (const.c * const.h))**(-3/2)\n",
    "M_rad.to(u.M_sun)"
   ]
  }
 ],
 "metadata": {
  "kernelspec": {
   "display_name": "Python 3 (ipykernel)",
   "language": "python",
   "name": "python3"
  },
  "language_info": {
   "codemirror_mode": {
    "name": "ipython",
    "version": 3
   },
   "file_extension": ".py",
   "mimetype": "text/x-python",
   "name": "python",
   "nbconvert_exporter": "python",
   "pygments_lexer": "ipython3",
   "version": "3.9.7"
  }
 },
 "nbformat": 4,
 "nbformat_minor": 5
}
